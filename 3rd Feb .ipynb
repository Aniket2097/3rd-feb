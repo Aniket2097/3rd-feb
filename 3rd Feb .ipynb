{
 "cells": [
  {
   "cell_type": "code",
   "execution_count": null,
   "id": "8704fcc1-8111-4aaf-97f4-9b6aa27002e7",
   "metadata": {},
   "outputs": [],
   "source": [
    "Q1. Which keyword is used to create a function? Create a function to return a list of odd numbers in the\n",
    "range of 1 to 25.\n",
    "\n",
    "Ans :\n",
    "\n",
    "def keyword is used to create a function.\n"
   ]
  },
  {
   "cell_type": "code",
   "execution_count": 1,
   "id": "50ebfd62-d681-4175-b250-a01da97710dd",
   "metadata": {},
   "outputs": [],
   "source": [
    "l = list(range(1,26))\n"
   ]
  },
  {
   "cell_type": "code",
   "execution_count": 2,
   "id": "df756324-553c-4535-9988-f49c7a1675d8",
   "metadata": {},
   "outputs": [],
   "source": [
    "l2 = []\n",
    "\n",
    "def func (l):\n",
    "    \n",
    "    for i in l :\n",
    "        if i%2 != 0:\n",
    "            l2.append(i)\n",
    "    return l2\n",
    "    "
   ]
  },
  {
   "cell_type": "code",
   "execution_count": 3,
   "id": "73184291-e5c1-418a-9f2c-8c32fe853030",
   "metadata": {},
   "outputs": [
    {
     "data": {
      "text/plain": [
       "[1, 3, 5, 7, 9, 11, 13, 15, 17, 19, 21, 23, 25]"
      ]
     },
     "execution_count": 3,
     "metadata": {},
     "output_type": "execute_result"
    }
   ],
   "source": [
    "func (l)"
   ]
  },
  {
   "cell_type": "code",
   "execution_count": null,
   "id": "726dc9b0-c0b8-4e6f-9064-33414199a66f",
   "metadata": {},
   "outputs": [],
   "source": [
    "Q2. Why *args and **kwargs is used in some functions? Create a function each for *args and **kwargs\n",
    "to demonstrate their use."
   ]
  },
  {
   "cell_type": "code",
   "execution_count": null,
   "id": "8d7f9f50-bac2-4601-a575-53741735db0d",
   "metadata": {},
   "outputs": [],
   "source": [
    "Ans :\n",
    "    \n",
    "*args allow us to pass the variable number of non keyword arguments to function.\n",
    "and by using it we can pass many arguments at once."
   ]
  },
  {
   "cell_type": "code",
   "execution_count": 4,
   "id": "678c3b6a-d016-4284-afd9-24f8238420d5",
   "metadata": {},
   "outputs": [
    {
     "name": "stdout",
     "output_type": "stream",
     "text": [
      "Sum: 8\n",
      "Sum: 22\n",
      "Sum: 17\n"
     ]
    }
   ],
   "source": [
    "def adder(*num):\n",
    "    sum = 0\n",
    "    \n",
    "    for n in num:\n",
    "        sum = sum + n\n",
    "\n",
    "    print(\"Sum:\",sum)\n",
    "\n",
    "adder(3,5)\n",
    "adder(4,5,6,7)\n",
    "adder(1,2,3,5,6)"
   ]
  },
  {
   "cell_type": "code",
   "execution_count": null,
   "id": "7124315e-9adb-41bc-a33b-2d53e0301a25",
   "metadata": {},
   "outputs": [],
   "source": [
    "**kwargs, it allows us to pass the variable length of keyword arguments to the function.\n",
    "In the function, we use the double The arguments are passed as a dictionary a these arguments make a dictionary \n",
    "inside function with name same as the parameter excluding double asterisk **."
   ]
  },
  {
   "cell_type": "code",
   "execution_count": 5,
   "id": "3a06e395-066b-425f-8fb8-171126917f82",
   "metadata": {},
   "outputs": [
    {
     "name": "stdout",
     "output_type": "stream",
     "text": [
      "\n",
      "Data type of argument: <class 'dict'>\n",
      "Firstname is Gita\n",
      "Lastname is bharma\n",
      "Age is 32\n",
      "Phone is 1234567890\n",
      "\n",
      "Data type of argument: <class 'dict'>\n",
      "Firstname is Johnny\n",
      "Lastname is Wooden\n",
      "Email is johnnywooden@nomail.com\n",
      "Country is India\n",
      "Age is 25\n",
      "Phone is 7852543778\n"
     ]
    }
   ],
   "source": [
    "def intro(**data):\n",
    "    print(\"\\nData type of argument:\",type(data))\n",
    "\n",
    "    for key, value in data.items():\n",
    "        print(\"{} is {}\".format(key,value))\n",
    "\n",
    "intro(Firstname=\"Gita\", Lastname=\"bharma\", Age=32, Phone=1234567890)\n",
    "intro(Firstname=\"Johnny\", Lastname=\"Wooden\", Email=\"johnnywooden@nomail.com\", Country=\"India\", Age=25, Phone=7852543778)"
   ]
  },
  {
   "cell_type": "code",
   "execution_count": null,
   "id": "861b3c5b-9af0-42dc-980f-18f29a0be0c9",
   "metadata": {},
   "outputs": [],
   "source": [
    "Q3. What is an iterator in python? Name the method used to initialise the iterator object and the method\n",
    "used for iteration. Use these methods to print the first five elements of the given list [2, 4, 6, 8, 10, 12, 14,\n",
    "16, 18, 20]."
   ]
  },
  {
   "cell_type": "code",
   "execution_count": null,
   "id": "ca3cf410-cbbc-4885-8de7-3434a9f6ceaf",
   "metadata": {},
   "outputs": [],
   "source": [
    "An iterator is an object that can be iterated upon, meaning that you can traverse through all the values. \n",
    "The iterator object is initialized using the iter() method. \n",
    "It uses the next() method for iteration.\n"
   ]
  },
  {
   "cell_type": "code",
   "execution_count": 6,
   "id": "746d7787-2f7a-4085-8f7c-d7a5018f1c07",
   "metadata": {},
   "outputs": [
    {
     "name": "stdout",
     "output_type": "stream",
     "text": [
      "2\n",
      "4\n",
      "6\n",
      "8\n",
      "10\n"
     ]
    }
   ],
   "source": [
    "l = [2,4,6,8,10,12,14,16,18,20]\n",
    "l_iterator = iter(l)\n",
    "print(next(l_iterator))\n",
    "print(next(l_iterator))\n",
    "print(next(l_iterator))\n",
    "print(next(l_iterator))\n",
    "print(next(l_iterator))"
   ]
  },
  {
   "cell_type": "code",
   "execution_count": null,
   "id": "af1f8338-53d9-4212-aaae-e566a10f1447",
   "metadata": {},
   "outputs": [],
   "source": [
    "Q4. What is a generator function in python? Why yield keyword is used? Give an example of a generator\n",
    "function."
   ]
  },
  {
   "cell_type": "code",
   "execution_count": null,
   "id": "f8e487c8-4c11-49d9-b8d5-0cb1d1d744cc",
   "metadata": {},
   "outputs": [],
   "source": [
    "Ans :\n",
    "    A generator-function is used whenever it needs to generate a value.\n",
    "The Yield keyword in Python is similar to a return statement used for returning values or objects in Python.\n"
   ]
  },
  {
   "cell_type": "code",
   "execution_count": 7,
   "id": "4e6200c6-2a26-4274-b8ec-fbfdf17e0fcc",
   "metadata": {},
   "outputs": [],
   "source": [
    "def fibo(n):\n",
    "    a =0 \n",
    "    b = 1\n",
    "    for i in range(n) :\n",
    "        yield a\n",
    "        c=a+b\n",
    "        a = b\n",
    "        b= c\n",
    "    "
   ]
  },
  {
   "cell_type": "code",
   "execution_count": 8,
   "id": "1d9edb10-bac1-42ec-b163-bfb4938dc1d0",
   "metadata": {},
   "outputs": [
    {
     "data": {
      "text/plain": [
       "<generator object fibo at 0x7fc23b67d9a0>"
      ]
     },
     "execution_count": 8,
     "metadata": {},
     "output_type": "execute_result"
    }
   ],
   "source": [
    "fibo(10)\n"
   ]
  },
  {
   "cell_type": "code",
   "execution_count": 9,
   "id": "a132687d-d1e9-46a3-ac17-f7dca5559c4a",
   "metadata": {},
   "outputs": [
    {
     "name": "stdout",
     "output_type": "stream",
     "text": [
      "0\n",
      "1\n",
      "1\n",
      "2\n",
      "3\n",
      "5\n",
      "8\n",
      "13\n",
      "21\n",
      "34\n"
     ]
    }
   ],
   "source": [
    "for i in fibo(10):\n",
    "    print(i)"
   ]
  },
  {
   "cell_type": "code",
   "execution_count": null,
   "id": "49bbc88f-ddd6-4ea1-b807-d8d11eba9bd5",
   "metadata": {},
   "outputs": [],
   "source": [
    "Q5. Create a generator function for prime numbers less than 1000. Use the next() method to print the\n",
    "first 20 prime numbers."
   ]
  },
  {
   "cell_type": "code",
   "execution_count": 11,
   "id": "c2bf0dd6-4d25-4bf3-b32d-a98babc406d8",
   "metadata": {},
   "outputs": [],
   "source": [
    "from math import sqrt\n",
    "\n",
    "def is_prime(n):\n",
    "    if (n <= 1):\n",
    "        return False\n",
    "    if (n == 2):\n",
    "        return True\n",
    "    if (n % 2 == 0):\n",
    "        return False\n",
    "\n",
    "    i = 3\n",
    "    while i <= sqrt(n):\n",
    "        if n % i == 0:\n",
    "            return False\n",
    "        i = i + 2\n",
    "\n",
    "    return True"
   ]
  },
  {
   "cell_type": "code",
   "execution_count": 12,
   "id": "0e680ac1-2e82-4256-8a4a-5bd1317f2a15",
   "metadata": {},
   "outputs": [],
   "source": [
    "def prime_generator():\n",
    "    n = 1\n",
    "    while n:\n",
    "        n += 1\n",
    "        if is_prime(n):\n",
    "            yield n"
   ]
  },
  {
   "cell_type": "code",
   "execution_count": 13,
   "id": "b620d3de-a819-4418-9810-813f5525dd13",
   "metadata": {},
   "outputs": [
    {
     "name": "stdout",
     "output_type": "stream",
     "text": [
      "2\n",
      "3\n",
      "5\n",
      "7\n",
      "11\n",
      "13\n",
      "17\n",
      "19\n",
      "23\n",
      "29\n",
      "31\n",
      "37\n",
      "41\n",
      "43\n",
      "47\n",
      "53\n",
      "59\n",
      "61\n",
      "67\n",
      "71\n"
     ]
    }
   ],
   "source": [
    "generator = prime_generator()\n",
    "\n",
    "for i in range(20):\n",
    "    print(next(generator))"
   ]
  },
  {
   "cell_type": "code",
   "execution_count": null,
   "id": "4cb76bcd-196e-4a80-be63-3187f885ce11",
   "metadata": {},
   "outputs": [],
   "source": [
    "Q6. Write a python program to print the first 10 Fibonacci numbers using a while loop."
   ]
  },
  {
   "cell_type": "code",
   "execution_count": 14,
   "id": "c9fdbc04-13ec-4e5f-80b0-64ee9ed70a61",
   "metadata": {},
   "outputs": [
    {
     "name": "stdout",
     "output_type": "stream",
     "text": [
      "0\n",
      "1\n",
      "1\n",
      "2\n",
      "3\n",
      "5\n",
      "8\n",
      "13\n",
      "21\n",
      "34\n"
     ]
    }
   ],
   "source": [
    "n = 10\n",
    "i = 1 \n",
    "a = 0 \n",
    "b = 1\n",
    "\n",
    "while i <= n :\n",
    "    print(a)\n",
    "    c = a+b\n",
    "    a = b\n",
    "    b = c\n",
    "    \n",
    "    i += 1"
   ]
  },
  {
   "cell_type": "code",
   "execution_count": null,
   "id": "6ea0f1b2-0e64-4c67-bf74-f3444d36aa5f",
   "metadata": {},
   "outputs": [],
   "source": [
    "Q7. Write a List Comprehension to iterate through the given string: ‘pwskills’.\n",
    "Expected output: ['p', 'w', 's', 'k', 'i', 'l', 'l', 's']"
   ]
  },
  {
   "cell_type": "code",
   "execution_count": 15,
   "id": "e9a8f0be-d058-4b37-abe0-f7f39e9a6681",
   "metadata": {},
   "outputs": [
    {
     "data": {
      "text/plain": [
       "['p', 'w', 's', 'k', 'i', 'l', 'l', 's']"
      ]
     },
     "execution_count": 15,
     "metadata": {},
     "output_type": "execute_result"
    }
   ],
   "source": [
    " s = 'pwskills'\n",
    "[i for i in s ]"
   ]
  },
  {
   "cell_type": "code",
   "execution_count": null,
   "id": "94515455-b36b-49bb-9935-b283e6b27a40",
   "metadata": {},
   "outputs": [],
   "source": [
    "Q8. Write a python program to check whether a given number is Palindrome or not using a while loop."
   ]
  },
  {
   "cell_type": "code",
   "execution_count": 16,
   "id": "30758ce6-634b-44ff-96ae-9edeed70d318",
   "metadata": {},
   "outputs": [
    {
     "name": "stdin",
     "output_type": "stream",
     "text": [
      "Enter a number: 55\n"
     ]
    },
    {
     "name": "stdout",
     "output_type": "stream",
     "text": [
      "The number is palindrome\n"
     ]
    }
   ],
   "source": [
    "num=int(input(\"Enter a number:\"))\n",
    "temp=num\n",
    "rev=0\n",
    "while(num>0):\n",
    "    rev=rev*10+num%10\n",
    "    num=num//10\n",
    "if temp==rev :\n",
    "    print(\"The number is palindrome\")\n",
    "else:\n",
    "    print(\"Not a palindrome\")"
   ]
  },
  {
   "cell_type": "code",
   "execution_count": null,
   "id": "448ec7a6-57ab-4bef-ae14-8b0af9d52b89",
   "metadata": {},
   "outputs": [],
   "source": [
    "Q9. Write a code to print odd numbers from 1 to 100 using list comprehension."
   ]
  },
  {
   "cell_type": "code",
   "execution_count": null,
   "id": "7386333c-9d73-4045-88a2-175b2a544878",
   "metadata": {},
   "outputs": [],
   "source": []
  },
  {
   "cell_type": "code",
   "execution_count": null,
   "id": "dd70f58b-ae2c-4a9d-8d80-cc2a549a564f",
   "metadata": {},
   "outputs": [],
   "source": []
  },
  {
   "cell_type": "code",
   "execution_count": null,
   "id": "b2cdb92a-3531-4be3-9426-be6a26c32bcb",
   "metadata": {},
   "outputs": [],
   "source": []
  },
  {
   "cell_type": "code",
   "execution_count": null,
   "id": "9bd1c9e5-1a1c-422d-abab-eea89b040d36",
   "metadata": {},
   "outputs": [],
   "source": []
  },
  {
   "cell_type": "code",
   "execution_count": null,
   "id": "c2e29cbe-28ef-4d35-b6ac-10b792efdc78",
   "metadata": {},
   "outputs": [],
   "source": []
  },
  {
   "cell_type": "code",
   "execution_count": null,
   "id": "8eb56b3c-7b37-47d5-a691-a2a6e4ce76d4",
   "metadata": {},
   "outputs": [],
   "source": []
  }
 ],
 "metadata": {
  "kernelspec": {
   "display_name": "Python 3 (ipykernel)",
   "language": "python",
   "name": "python3"
  },
  "language_info": {
   "codemirror_mode": {
    "name": "ipython",
    "version": 3
   },
   "file_extension": ".py",
   "mimetype": "text/x-python",
   "name": "python",
   "nbconvert_exporter": "python",
   "pygments_lexer": "ipython3",
   "version": "3.10.8"
  }
 },
 "nbformat": 4,
 "nbformat_minor": 5
}
